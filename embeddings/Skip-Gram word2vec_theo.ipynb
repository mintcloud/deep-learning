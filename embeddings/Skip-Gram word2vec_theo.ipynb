{
 "cells": [
  {
   "cell_type": "markdown",
   "metadata": {
    "deletable": true,
    "editable": true
   },
   "source": [
    "# Skip-gram word2vec\n",
    "\n",
    "In this notebook, I'll lead you through using TensorFlow to implement the word2vec algorithm using the skip-gram architecture. By implementing this, you'll learn about embedding words for use in natural language processing. This will come in handy when dealing with things like translations.\n",
    "\n",
    "## Readings\n",
    "\n",
    "Here are the resources I used to build this notebook. I suggest reading these either beforehand or while you're working on this material.\n",
    "\n",
    "* A really good [conceptual overview](http://mccormickml.com/2016/04/19/word2vec-tutorial-the-skip-gram-model/) of word2vec from Chris McCormick \n",
    "* [First word2vec paper](https://arxiv.org/pdf/1301.3781.pdf) from Mikolov et al.\n",
    "* [NIPS paper](http://papers.nips.cc/paper/5021-distributed-representations-of-words-and-phrases-and-their-compositionality.pdf) with improvements for word2vec also from Mikolov et al.\n",
    "* An [implementation of word2vec](http://www.thushv.com/natural_language_processing/word2vec-part-1-nlp-with-deep-learning-with-tensorflow-skip-gram/) from Thushan Ganegedara\n",
    "* TensorFlow [word2vec tutorial](https://www.tensorflow.org/tutorials/word2vec)\n",
    "\n",
    "## Word embeddings\n",
    "\n",
    "When you're dealing with language and words, you end up with tens of thousands of classes to predict, one for each word. Trying to one-hot encode these words is massively inefficient, you'll have one element set to 1 and the other 50,000 set to 0. The word2vec algorithm finds much more efficient representations by finding vectors that represent the words. These vectors also contain semantic information about the words. Words that show up in similar contexts, such as \"black\", \"white\", and \"red\" will have vectors near each other. There are two architectures for implementing word2vec, CBOW (Continuous Bag-Of-Words) and Skip-gram.\n",
    "\n",
    "<img src=\"assets/word2vec_architectures.png\" width=\"500\">\n",
    "\n",
    "In this implementation, we'll be using the skip-gram architecture because it performs better than CBOW. Here, we pass in a word and try to predict the words surrounding it in the text. In this way, we can train the network to learn representations for words that show up in similar contexts.\n",
    "\n",
    "First up, importing packages."
   ]
  },
  {
   "cell_type": "code",
   "execution_count": 1,
   "metadata": {
    "collapsed": false,
    "deletable": true,
    "editable": true
   },
   "outputs": [],
   "source": [
    "import time\n",
    "\n",
    "import numpy as np\n",
    "import tensorflow as tf\n",
    "\n",
    "import utils"
   ]
  },
  {
   "cell_type": "markdown",
   "metadata": {
    "deletable": true,
    "editable": true
   },
   "source": [
    "Load the [text8 dataset](http://mattmahoney.net/dc/textdata.html), a file of cleaned up Wikipedia articles from Matt Mahoney. The next cell will download the data set to the `data` folder. Then you can extract it and delete the archive file to save storage space."
   ]
  },
  {
   "cell_type": "code",
   "execution_count": 2,
   "metadata": {
    "collapsed": false,
    "deletable": true,
    "editable": true
   },
   "outputs": [],
   "source": [
    "from urllib.request import urlretrieve\n",
    "from os.path import isfile, isdir\n",
    "from tqdm import tqdm\n",
    "import zipfile\n",
    "\n",
    "dataset_folder_path = 'data'\n",
    "dataset_filename = 'text8.zip'\n",
    "dataset_name = 'Text8 Dataset'\n",
    "\n",
    "class DLProgress(tqdm):\n",
    "    last_block = 0\n",
    "\n",
    "    def hook(self, block_num=1, block_size=1, total_size=None):\n",
    "        self.total = total_size\n",
    "        self.update((block_num - self.last_block) * block_size)\n",
    "        self.last_block = block_num\n",
    "\n",
    "if not isfile(dataset_filename):\n",
    "    with DLProgress(unit='B', unit_scale=True, miniters=1, desc=dataset_name) as pbar:\n",
    "        urlretrieve(\n",
    "            'http://mattmahoney.net/dc/text8.zip',\n",
    "            dataset_filename,\n",
    "            pbar.hook)\n",
    "\n",
    "if not isdir(dataset_folder_path):\n",
    "    with zipfile.ZipFile(dataset_filename) as zip_ref:\n",
    "        zip_ref.extractall(dataset_folder_path)\n",
    "        \n",
    "with open('data/text8') as f:\n",
    "    text = f.read()"
   ]
  },
  {
   "cell_type": "markdown",
   "metadata": {
    "deletable": true,
    "editable": true
   },
   "source": [
    "## Preprocessing\n",
    "\n",
    "Here I'm fixing up the text to make training easier. This comes from the `utils` module I wrote. The `preprocess` function coverts any punctuation into tokens, so a period is changed to ` <PERIOD> `. In this data set, there aren't any periods, but it will help in other NLP problems. I'm also removing all words that show up five or fewer times in the dataset. This will greatly reduce issues due to noise in the data and improve the quality of the vector representations. If you want to write your own functions for this stuff, go for it."
   ]
  },
  {
   "cell_type": "code",
   "execution_count": 3,
   "metadata": {
    "collapsed": false,
    "deletable": true,
    "editable": true
   },
   "outputs": [
    {
     "name": "stdout",
     "output_type": "stream",
     "text": [
      "['the', 'term', 'is', 'still', 'used']\n"
     ]
    }
   ],
   "source": [
    "words = utils.preprocess(text)\n",
    "print(words[30:35])"
   ]
  },
  {
   "cell_type": "code",
   "execution_count": 4,
   "metadata": {
    "collapsed": false,
    "deletable": true,
    "editable": true
   },
   "outputs": [
    {
     "name": "stdout",
     "output_type": "stream",
     "text": [
      "Total words: 16680599\n",
      "Unique words: 63641\n"
     ]
    }
   ],
   "source": [
    "print(\"Total words: {}\".format(len(words)))\n",
    "print(\"Unique words: {}\".format(len(set(words))))"
   ]
  },
  {
   "cell_type": "markdown",
   "metadata": {
    "deletable": true,
    "editable": true
   },
   "source": [
    "And here I'm creating dictionaries to covert words to integers and backwards, integers to words. The integers are assigned in descending frequency order, so the most frequent word (\"the\") is given the integer 0 and the next most frequent is 1 and so on. The words are converted to integers and stored in the list `int_words`."
   ]
  },
  {
   "cell_type": "code",
   "execution_count": 5,
   "metadata": {
    "collapsed": false,
    "deletable": true,
    "editable": true
   },
   "outputs": [],
   "source": [
    "vocab_to_int, int_to_vocab = utils.create_lookup_tables(words)\n"
   ]
  },
  {
   "cell_type": "code",
   "execution_count": 6,
   "metadata": {
    "collapsed": false,
    "deletable": true,
    "editable": true
   },
   "outputs": [
    {
     "name": "stdout",
     "output_type": "stream",
     "text": [
      "0\n",
      "blind\n"
     ]
    }
   ],
   "source": [
    "print(vocab_to_int['the'])\n",
    "print(int_to_vocab[3528])"
   ]
  },
  {
   "cell_type": "code",
   "execution_count": 7,
   "metadata": {
    "collapsed": false,
    "deletable": true,
    "editable": true
   },
   "outputs": [
    {
     "data": {
      "text/plain": [
       "63641"
      ]
     },
     "execution_count": 7,
     "metadata": {},
     "output_type": "execute_result"
    }
   ],
   "source": [
    "len(int_to_vocab)"
   ]
  },
  {
   "cell_type": "code",
   "execution_count": 8,
   "metadata": {
    "collapsed": true,
    "deletable": true,
    "editable": true
   },
   "outputs": [],
   "source": [
    "int_words = [vocab_to_int[word] for word in words]"
   ]
  },
  {
   "cell_type": "code",
   "execution_count": 9,
   "metadata": {
    "collapsed": false,
    "deletable": true,
    "editable": true
   },
   "outputs": [
    {
     "name": "stdout",
     "output_type": "stream",
     "text": [
      "['anarchism', 'originated', 'as', 'a', 'term', 'of', 'abuse', 'first', 'used', 'against', 'early', 'working', 'class', 'radicals', 'including', 'the', 'diggers', 'of', 'the', 'english', 'revolution', 'and', 'the', 'sans', 'culottes', 'of', 'the', 'french', 'revolution', 'whilst']\n",
      "[5238, 3082, 11, 5, 194, 1, 3135, 45, 58, 155, 127, 741, 476, 10632, 133, 0, 27441, 1, 0, 102, 854, 2, 0, 15082, 61873, 1, 0, 150, 854, 3583]\n"
     ]
    }
   ],
   "source": [
    "print(words[0:30])\n",
    "print(int_words[0:30])"
   ]
  },
  {
   "cell_type": "markdown",
   "metadata": {
    "deletable": true,
    "editable": true
   },
   "source": [
    "## Subsampling\n",
    "\n",
    "Words that show up often such as \"the\", \"of\", and \"for\" don't provide much context to the nearby words. If we discard some of them, we can remove some of the noise from our data and in return get faster training and better representations. This process is called subsampling by Mikolov. For each word $w_i$ in the training set, we'll discard it with probability given by \n",
    "\n",
    "$$ P(w_i) = 1 - \\sqrt{\\frac{t}{f(w_i)}} $$\n",
    "\n",
    "where $t$ is a threshold parameter and $f(w_i)$ is the frequency of word $w_i$ in the total dataset.\n",
    "\n",
    "I'm going to leave this up to you as an exercise. This is more of a programming challenge, than about deep learning specifically. But, being able to prepare your data for your network is an important skill to have. Check out my solution to see how I did it.\n",
    "\n",
    "> **Exercise:** Implement subsampling for the words in `int_words`. That is, go through `int_words` and discard each word given the probablility $P(w_i)$ shown above. Note that $P(w_i)$ is the probability that a word is discarded. Assign the subsampled data to `train_words`."
   ]
  },
  {
   "cell_type": "code",
   "execution_count": 10,
   "metadata": {
    "collapsed": false,
    "deletable": true,
    "editable": true
   },
   "outputs": [
    {
     "data": {
      "text/plain": [
       "489"
      ]
     },
     "execution_count": 10,
     "metadata": {},
     "output_type": "execute_result"
    }
   ],
   "source": [
    "int_words.count(3528)"
   ]
  },
  {
   "cell_type": "code",
   "execution_count": 11,
   "metadata": {
    "collapsed": false,
    "deletable": true,
    "editable": true
   },
   "outputs": [
    {
     "data": {
      "text/plain": [
       "0.35150989879073247"
      ]
     },
     "execution_count": 11,
     "metadata": {},
     "output_type": "execute_result"
    }
   ],
   "source": [
    "import random as rnd\n",
    "np.random.rand()"
   ]
  },
  {
   "cell_type": "code",
   "execution_count": 12,
   "metadata": {
    "collapsed": false,
    "deletable": true,
    "editable": true
   },
   "outputs": [],
   "source": [
    "import random\n",
    "from collections import Counter\n",
    "\n",
    "## Your code here\n",
    "\n",
    "train_words = []\n",
    "\n",
    "words_counter = Counter(int_words)\n",
    "total_number_words = len(int_words)\n",
    "k = 0.00001\n",
    "#freq = {word:count/tot_count for word,count in words_counter.items()}\n",
    "prob_words = [1-np.sqrt(k/(words_counter[i]/total_number_words)) for i in range(len(vocab_to_int))]\n",
    "for int_word in int_words:\n",
    "    if prob_words[int_word] < random.random():\n",
    "        train_words.append(int_word)"
   ]
  },
  {
   "cell_type": "code",
   "execution_count": 13,
   "metadata": {
    "collapsed": false,
    "deletable": true,
    "editable": true
   },
   "outputs": [
    {
     "name": "stdout",
     "output_type": "stream",
     "text": [
      "16680599\n",
      "4626248\n"
     ]
    }
   ],
   "source": [
    "print(len(int_words))\n",
    "print(len(train_words))"
   ]
  },
  {
   "cell_type": "markdown",
   "metadata": {
    "deletable": true,
    "editable": true
   },
   "source": [
    "## Making batches"
   ]
  },
  {
   "cell_type": "markdown",
   "metadata": {
    "deletable": true,
    "editable": true
   },
   "source": [
    "Now that our data is in good shape, we need to get it into the proper form to pass it into our network. With the skip-gram architecture, for each word in the text, we want to grab all the words in a window around that word, with size $C$. \n",
    "\n",
    "From [Mikolov et al.](https://arxiv.org/pdf/1301.3781.pdf): \n",
    "\n",
    "\"Since the more distant words are usually less related to the current word than those close to it, we give less weight to the distant words by sampling less from those words in our training examples... If we choose $C = 5$, for each training word we will select randomly a number $R$ in range $< 1; C >$, and then use $R$ words from history and $R$ words from the future of the current word as correct labels.\"\n",
    "\n",
    "> **Exercise:** Implement a function `get_target` that receives a list of words, an index, and a window size, then returns a list of words in the window around the index. Make sure to use the algorithm described above, where you choose a random number of words from the window."
   ]
  },
  {
   "cell_type": "code",
   "execution_count": 14,
   "metadata": {
    "collapsed": false,
    "deletable": true,
    "editable": true
   },
   "outputs": [],
   "source": [
    "def get_target(words, idx, window_size=1):\n",
    "    ''' Get a list of words in a window around an index. '''\n",
    "    list_words =[]\n",
    "    # Your code here\n",
    "    R = random.randint(1,window_size+1)\n",
    "    start = idx - R if (idx - R) > 0 else 0\n",
    "    end = idx + R\n",
    "    set_words = set(words[start:idx] + words[idx+1:end+1] )\n",
    "    #range_test = [start:idx] + [idx+1:end+1]\n",
    "\n",
    "    #print(range_test, \" with index = \", idx, \" , R = \" , R)\n",
    "\n",
    "\n",
    "    return list(set_words)"
   ]
  },
  {
   "cell_type": "code",
   "execution_count": 15,
   "metadata": {
    "collapsed": false,
    "deletable": true,
    "editable": true
   },
   "outputs": [],
   "source": [
    "\n",
    "def get_target_edited(words, idx, window_size=5):\n",
    "    ''' Get a list of words in a window around an index. '''\n",
    "    list_words =[]\n",
    "    # Your code here\n",
    "    R = random.randint(1,window_size)\n",
    "    R_2 = R\n",
    "    start = idx - R_2 if (idx - R_2) > 0 else 0\n",
    "    end = idx + R_2\n",
    "    idx_start = (idx - R if (idx - R) > 0 else 0) \n",
    "    idx_end = idx + R\n",
    "    range_test = list(range(idx+1,idx_end+1))\n",
    "    print(range_test, \" with index = \", idx, \" , R = \" , R)\n",
    "    print(\"words correct: \", words[start:idx] + words[idx+1:end+1])\n",
    "    print(\"words incorrect: \", [words[i] for i in list(range(idx_start,idx))+list(range(idx+1,idx_end+1))])\n",
    "\n",
    "    #print(idx_end+1, \" with R : \" ,R)\n",
    "    \n",
    "    return list(set([words[i] for i in list(range(idx_start,idx))+list(range(idx+1,idx_end+1))]))"
   ]
  },
  {
   "cell_type": "code",
   "execution_count": 16,
   "metadata": {
    "collapsed": false,
    "deletable": true,
    "editable": true
   },
   "outputs": [
    {
     "name": "stdout",
     "output_type": "stream",
     "text": [
      "[101, 102, 103, 104, 105]  with index =  100  , R =  5\n",
      "words correct:  ['abolished', 'although', 'there', 'are', 'differing', 'of', 'what', 'this', 'means', 'anarchism']\n",
      "words incorrect:  ['abolished', 'although', 'there', 'are', 'differing', 'of', 'what', 'this', 'means', 'anarchism']\n"
     ]
    },
    {
     "data": {
      "text/plain": [
       "['there',\n",
       " 'anarchism',\n",
       " 'what',\n",
       " 'are',\n",
       " 'of',\n",
       " 'differing',\n",
       " 'abolished',\n",
       " 'this',\n",
       " 'although',\n",
       " 'means']"
      ]
     },
     "execution_count": 16,
     "metadata": {},
     "output_type": "execute_result"
    }
   ],
   "source": [
    "get_target_edited(words,100)"
   ]
  },
  {
   "cell_type": "code",
   "execution_count": 17,
   "metadata": {
    "collapsed": false,
    "deletable": true,
    "editable": true
   },
   "outputs": [
    {
     "data": {
      "text/plain": [
       "['differing', 'of']"
      ]
     },
     "execution_count": 17,
     "metadata": {},
     "output_type": "execute_result"
    }
   ],
   "source": [
    "get_target(words,100)"
   ]
  },
  {
   "cell_type": "code",
   "execution_count": 18,
   "metadata": {
    "collapsed": false,
    "deletable": true,
    "editable": true
   },
   "outputs": [
    {
     "data": {
      "text/plain": [
       "['are', 'differing', 'interpretations', 'of']"
      ]
     },
     "execution_count": 18,
     "metadata": {},
     "output_type": "execute_result"
    }
   ],
   "source": [
    "words[98:102] "
   ]
  },
  {
   "cell_type": "markdown",
   "metadata": {
    "deletable": true,
    "editable": true
   },
   "source": [
    "Here's a function that returns batches for our network. The idea is that it grabs `batch_size` words from a words list. Then for each of those words, it gets the target words in the window. I haven't found a way to pass in a random number of target words and get it to work with the architecture, so I make one row per input-target pair. This is a generator function by the way, helps save memory."
   ]
  },
  {
   "cell_type": "code",
   "execution_count": 19,
   "metadata": {
    "collapsed": false,
    "deletable": true,
    "editable": true
   },
   "outputs": [],
   "source": [
    "def get_batches(words, batch_size, window_size=5):\n",
    "    ''' Create a generator of word batches as a tuple (inputs, targets) '''\n",
    "    \n",
    "    n_batches = len(words)//batch_size\n",
    "    \n",
    "    # only full batches\n",
    "    words = words[:n_batches*batch_size]\n",
    "    \n",
    "    for idx in range(0, len(words), batch_size):\n",
    "        x, y = [], []\n",
    "        batch = words[idx:idx+batch_size]\n",
    "        for ii in range(len(batch)):\n",
    "            batch_x = batch[ii]\n",
    "            batch_y = get_target(batch, ii, window_size)\n",
    "            y.extend(batch_y)\n",
    "            x.extend([batch_x]*len(batch_y))\n",
    "        yield x, y\n",
    "    "
   ]
  },
  {
   "cell_type": "markdown",
   "metadata": {
    "collapsed": false,
    "deletable": true,
    "editable": true
   },
   "source": [
    "## Building the graph\n",
    "\n",
    "From Chris McCormick's blog, we can see the general structure of our network.\n",
    "![embedding_network](./assets/skip_gram_net_arch.png)\n",
    "\n",
    "The input words are passed in as one-hot encoded vectors. This will go into a hidden layer of linear units, then into a softmax layer. We'll use the softmax layer to make a prediction like normal.\n",
    "\n",
    "The idea here is to train the hidden layer weight matrix to find efficient representations for our words. This weight matrix is usually called the embedding matrix or embedding look-up table. We can discard the softmax layer becuase we don't really care about making predictions with this network. We just want the embedding matrix so we can use it in other networks we build from the dataset.\n",
    "\n",
    "I'm going to have you build the graph in stages now. First off, creating the `inputs` and `labels` placeholders like normal.\n",
    "\n",
    "> **Exercise:** Assign `inputs` and `labels` using `tf.placeholder`. We're going to be passing in integers, so set the data types to `tf.int32`. The batches we're passing in will have varying sizes, so set the batch sizes to [`None`]. To make things work later, you'll need to set the second dimension of `labels` to `None` or `1`."
   ]
  },
  {
   "cell_type": "code",
   "execution_count": 20,
   "metadata": {
    "collapsed": false,
    "deletable": true,
    "editable": true
   },
   "outputs": [],
   "source": [
    "train_graph = tf.Graph()\n",
    "with train_graph.as_default():\n",
    "    inputs = tf.placeholder(tf.int32, [None], name='inputs')\n",
    "    labels = tf.placeholder(tf.int32, [None, None], name='labels')"
   ]
  },
  {
   "cell_type": "markdown",
   "metadata": {
    "deletable": true,
    "editable": true
   },
   "source": [
    "## Embedding\n",
    "\n"
   ]
  },
  {
   "cell_type": "markdown",
   "metadata": {
    "collapsed": true,
    "deletable": true,
    "editable": true
   },
   "source": [
    "The embedding matrix has a size of the number of words by the number of neurons in the hidden layer. So, if you have 10,000 words and 300 hidden units, the matrix will have size $10,000 \\times 300$. Remember that we're using one-hot encoded vectors for our inputs. When you do the matrix multiplication of the one-hot vector with the embedding matrix, you end up selecting only one row out of the entire matrix:\n",
    "\n",
    "![one-hot matrix multiplication](assets/matrix_mult_w_one_hot.png)\n",
    "\n",
    "You don't actually need to do the matrix multiplication, you just need to select the row in the embedding matrix that corresponds to the input word. Then, the embedding matrix becomes a lookup table, you're looking up a vector the size of the hidden layer that represents the input word.\n",
    "\n",
    "<img src=\"assets/word2vec_weight_matrix_lookup_table.png\" width=500>\n",
    "\n",
    "\n",
    "> **Exercise:** Tensorflow provides a convenient function [`tf.nn.embedding_lookup`](https://www.tensorflow.org/api_docs/python/tf/nn/embedding_lookup) that does this lookup for us. You pass in the embedding matrix and a tensor of integers, then it returns rows in the matrix corresponding to those integers. Below, set the number of embedding features you'll use (200 is a good start), create the embedding matrix variable, and use [`tf.nn.embedding_lookup`](https://www.tensorflow.org/api_docs/python/tf/nn/embedding_lookup) to get the embedding tensors. For the embedding matrix, I suggest you initialize it with a uniform random numbers between -1 and 1 using [tf.random_uniform](https://www.tensorflow.org/api_docs/python/tf/random_uniform). This [TensorFlow tutorial](https://www.tensorflow.org/tutorials/word2vec) will help if you get stuck."
   ]
  },
  {
   "cell_type": "code",
   "execution_count": 21,
   "metadata": {
    "collapsed": false,
    "deletable": true,
    "editable": true
   },
   "outputs": [],
   "source": [
    "n_vocab = len(int_to_vocab)\n",
    "n_embedding =  200# Number of embedding features \n",
    "with train_graph.as_default():\n",
    "    #tf.random_uniform((n_vocab, n_embedding), -1, 1)\n",
    "    embedding = tf.Variable(tf.random_uniform([n_vocab,n_embedding],-1,1), name = 'embedding') # create embedding weight matrix here\n",
    "    embed = tf.nn.embedding_lookup(embedding,inputs) # use tf.nn.embedding_lookup to get the hidden layer output"
   ]
  },
  {
   "cell_type": "markdown",
   "metadata": {
    "deletable": true,
    "editable": true
   },
   "source": [
    "## Negative sampling\n",
    "\n"
   ]
  },
  {
   "cell_type": "markdown",
   "metadata": {
    "deletable": true,
    "editable": true
   },
   "source": [
    "For every example we give the network, we train it using the output from the softmax layer. That means for each input, we're making very small changes to millions of weights even though we only have one true example. This makes training the network very inefficient. We can approximate the loss from the softmax layer by only updating a small subset of all the weights at once. We'll update the weights for the correct label, but only a small number of incorrect labels. This is called [\"negative sampling\"](http://papers.nips.cc/paper/5021-distributed-representations-of-words-and-phrases-and-their-compositionality.pdf). Tensorflow has a convenient function to do this, [`tf.nn.sampled_softmax_loss`](https://www.tensorflow.org/api_docs/python/tf/nn/sampled_softmax_loss).\n",
    "\n",
    "> **Exercise:** Below, create weights and biases for the softmax layer. Then, use [`tf.nn.sampled_softmax_loss`](https://www.tensorflow.org/api_docs/python/tf/nn/sampled_softmax_loss) to calculate the loss. Be sure to read the documentation to figure out how it works."
   ]
  },
  {
   "cell_type": "code",
   "execution_count": 22,
   "metadata": {
    "collapsed": false,
    "deletable": true,
    "editable": true
   },
   "outputs": [],
   "source": [
    "# Number of negative labels to sample\n",
    "n_sampled = 100\n",
    "with train_graph.as_default():\n",
    "    softmax_w = tf.Variable(tf.random_normal([n_vocab,n_embedding],stddev=0.1))\n",
    "    softmax_b = tf.Variable(tf.zeros(n_vocab,dtype=tf.float32))\n",
    "    \n",
    "    # Calculate the loss using negative sampling\n",
    "    loss = tf.nn.sampled_softmax_loss(softmax_w, softmax_b, \n",
    "                                      labels,embed,n_sampled,\n",
    "                                      n_vocab )\n",
    "    \n",
    "    cost = tf.reduce_mean(loss)\n",
    "    optimizer = tf.train.AdamOptimizer().minimize(cost)"
   ]
  },
  {
   "cell_type": "markdown",
   "metadata": {
    "deletable": true,
    "editable": true
   },
   "source": [
    "## Validation\n",
    "\n",
    "This code is from Thushan Ganegedara's implementation. Here we're going to choose a few common words and few uncommon words. Then, we'll print out the closest words to them. It's a nice way to check that our embedding table is grouping together words with similar semantic meanings."
   ]
  },
  {
   "cell_type": "code",
   "execution_count": 23,
   "metadata": {
    "collapsed": true,
    "deletable": true,
    "editable": true
   },
   "outputs": [],
   "source": [
    "with train_graph.as_default():\n",
    "    ## From Thushan Ganegedara's implementation\n",
    "    valid_size = 16 # Random set of words to evaluate similarity on.\n",
    "    valid_window = 100\n",
    "    # pick 8 samples from (0,100) and (1000,1100) each ranges. lower id implies more frequent \n",
    "    valid_examples = np.array(random.sample(range(valid_window), valid_size//2))\n",
    "    valid_examples = np.append(valid_examples, \n",
    "                               random.sample(range(1000,1000+valid_window), valid_size//2))\n",
    "\n",
    "    valid_dataset = tf.constant(valid_examples, dtype=tf.int32)\n",
    "    \n",
    "    # We use the cosine distance:\n",
    "    norm = tf.sqrt(tf.reduce_sum(tf.square(embedding), 1, keep_dims=True))\n",
    "    normalized_embedding = embedding / norm\n",
    "    valid_embedding = tf.nn.embedding_lookup(normalized_embedding, valid_dataset)\n",
    "    similarity = tf.matmul(valid_embedding, tf.transpose(normalized_embedding))"
   ]
  },
  {
   "cell_type": "code",
   "execution_count": null,
   "metadata": {
    "collapsed": false,
    "deletable": true,
    "editable": true
   },
   "outputs": [
    {
     "name": "stdout",
     "output_type": "stream",
     "text": [
      "mkdir: cannot create directory ‘checkpoints’: File exists\r\n"
     ]
    }
   ],
   "source": [
    "# If the checkpoints directory doesn't exist:\n",
    "!mkdir checkpoints"
   ]
  },
  {
   "cell_type": "markdown",
   "metadata": {
    "deletable": true,
    "editable": true
   },
   "source": [
    "## Training\n",
    "\n",
    "Below is the code to train the network. Every 100 batches it reports the training loss. Every 1000 batches, it'll print out the validation words."
   ]
  },
  {
   "cell_type": "code",
   "execution_count": null,
   "metadata": {
    "collapsed": false,
    "deletable": true,
    "editable": true
   },
   "outputs": [
    {
     "name": "stdout",
     "output_type": "stream",
     "text": [
      "Epoch 1/10 Iteration: 100 Avg. Training loss: 5.7151 0.1991 sec/batch\n",
      "Epoch 1/10 Iteration: 200 Avg. Training loss: 5.6888 0.1975 sec/batch\n",
      "Epoch 1/10 Iteration: 300 Avg. Training loss: 5.5792 0.1978 sec/batch\n",
      "Epoch 1/10 Iteration: 400 Avg. Training loss: 5.6401 0.1972 sec/batch\n",
      "Epoch 1/10 Iteration: 500 Avg. Training loss: 5.5758 0.1983 sec/batch\n",
      "Epoch 1/10 Iteration: 600 Avg. Training loss: 5.5985 0.1984 sec/batch\n",
      "Epoch 1/10 Iteration: 700 Avg. Training loss: 5.5951 0.1969 sec/batch\n",
      "Epoch 1/10 Iteration: 800 Avg. Training loss: 5.5832 0.1988 sec/batch\n",
      "Epoch 1/10 Iteration: 900 Avg. Training loss: 5.5350 0.2008 sec/batch\n",
      "Epoch 1/10 Iteration: 1000 Avg. Training loss: 5.4577 0.2011 sec/batch\n",
      "Nearest to been: abet, comers, spire, brought, warfare, analogs, unpleasant, tenure,\n",
      "Nearest to will: programmability, spontaneity, trebia, jennings, yaroslav, foote, preside, matthias,\n",
      "Nearest to often: rude, stresses, levite, toughened, riot, hamadan, gie, cortina,\n",
      "Nearest to such: lulu, downstairs, oesophagus, deepest, phenethylamines, fulcher, manos, disposable,\n",
      "Nearest to time: dominican, veselin, sussex, appletalk, blackberry, smallpox, nehru, idris,\n",
      "Nearest to used: htp, suva, ovaries, unsightly, ciboney, svinhufvud, dominicans, pathname,\n",
      "Nearest to more: orthoclase, bitkeeper, qualifier, white, lives, moh, banff, berries,\n",
      "Nearest to over: supercritical, revalued, craftsman, obsession, kie, ena, year, zayas,\n",
      "Nearest to hold: killer, plotinus, kavina, almanack, tramiel, glitches, leaving, deficient,\n",
      "Nearest to channel: barajas, pitaka, weizmann, epistolary, spanking, ptsd, clays, hamill,\n",
      "Nearest to prince: cyrillic, dogmatically, turtles, streaming, rip, jacobs, dictionaries, durrell,\n",
      "Nearest to square: biograph, frawley, express, nguema, solomon, roof, snuck, adderall,\n",
      "Nearest to instance: proust, comprehensiveness, vivre, ending, drinks, toni, vivien, harm,\n",
      "Nearest to gold: chekhov, labonte, analgesic, abortions, snaps, subjects, jaspers, lmann,\n",
      "Nearest to mean: beauchamp, curta, evaporator, handed, afferent, cosmas, sceptics, buzzing,\n",
      "Nearest to frac: dai, selznick, tennyson, prevails, debated, roussillon, benedetto, coots,\n",
      "Epoch 1/10 Iteration: 1100 Avg. Training loss: 5.6019 0.2082 sec/batch\n",
      "Epoch 1/10 Iteration: 1200 Avg. Training loss: 5.4553 0.2062 sec/batch\n",
      "Epoch 1/10 Iteration: 1300 Avg. Training loss: 5.4149 0.2061 sec/batch\n",
      "Epoch 1/10 Iteration: 1400 Avg. Training loss: 5.3233 0.2044 sec/batch\n",
      "Epoch 1/10 Iteration: 1500 Avg. Training loss: 5.2414 0.2060 sec/batch\n",
      "Epoch 1/10 Iteration: 1600 Avg. Training loss: 5.2330 0.2077 sec/batch\n",
      "Epoch 1/10 Iteration: 1700 Avg. Training loss: 5.1839 0.2068 sec/batch\n",
      "Epoch 1/10 Iteration: 1800 Avg. Training loss: 5.1089 0.2065 sec/batch\n",
      "Epoch 1/10 Iteration: 1900 Avg. Training loss: 5.1002 0.2062 sec/batch\n",
      "Epoch 1/10 Iteration: 2000 Avg. Training loss: 5.0840 0.2054 sec/batch\n",
      "Nearest to been: brought, abet, warfare, unpleasant, spire, varieties, tenure, pikes,\n",
      "Nearest to will: came, programmability, created, spontaneity, jennings, matthias, represented, trebia,\n",
      "Nearest to often: stresses, riot, rude, bizarre, giuseppe, extremes, chiefly, toughened,\n",
      "Nearest to such: lulu, oesophagus, continuity, downstairs, phenethylamines, deepest, disposable, casinos,\n",
      "Nearest to time: dominican, due, veselin, intense, cartridges, sussex, provided, goodness,\n",
      "Nearest to used: can, population, encouraged, boasts, salle, ciboney, maps, htp,\n",
      "Nearest to more: lives, white, orthoclase, moh, bitkeeper, mutual, berries, qualifier,\n",
      "Nearest to over: year, hall, supercritical, growth, vendor, revalued, craftsman, obsession,\n",
      "Nearest to hold: leaving, plotinus, tramiel, killer, conducting, anubis, almanack, understand,\n",
      "Nearest to channel: hamill, weizmann, pitaka, barajas, ptsd, epistolary, clays, humor,\n",
      "Nearest to prince: cyrillic, streaming, dogmatically, turtles, jacobs, rip, dictionaries, durrell,\n",
      "Nearest to square: express, roof, solomon, race, biograph, understanding, frawley, adderall,\n",
      "Nearest to instance: ending, harm, comprehensiveness, drinks, plan, particularly, toni, proust,\n",
      "Nearest to gold: chekhov, analgesic, labonte, subjects, lmann, jaspers, adjoining, electroshock,\n",
      "Nearest to mean: curta, handed, implies, cosmas, productive, beauchamp, continue, delaware,\n",
      "Nearest to frac: dai, prevails, tennyson, roussillon, debated, pole, selznick, benedetto,\n",
      "Epoch 1/10 Iteration: 2100 Avg. Training loss: 4.9943 0.2111 sec/batch\n",
      "Epoch 1/10 Iteration: 2200 Avg. Training loss: 4.9662 0.2072 sec/batch\n",
      "Epoch 1/10 Iteration: 2300 Avg. Training loss: 4.9252 0.2056 sec/batch\n",
      "Epoch 1/10 Iteration: 2400 Avg. Training loss: 4.9065 0.2091 sec/batch\n",
      "Epoch 1/10 Iteration: 2500 Avg. Training loss: 4.9081 0.2082 sec/batch\n",
      "Epoch 1/10 Iteration: 2600 Avg. Training loss: 4.8661 0.2086 sec/batch\n",
      "Epoch 1/10 Iteration: 2700 Avg. Training loss: 4.8441 0.2091 sec/batch\n",
      "Epoch 1/10 Iteration: 2800 Avg. Training loss: 4.8668 0.2082 sec/batch\n",
      "Epoch 1/10 Iteration: 2900 Avg. Training loss: 4.8253 0.2089 sec/batch\n",
      "Epoch 1/10 Iteration: 3000 Avg. Training loss: 4.8036 0.2099 sec/batch\n",
      "Nearest to been: warfare, abet, brought, unpleasant, tenure, spire, comers, analogs,\n",
      "Nearest to will: programmability, created, spontaneity, lingvo, preside, ranking, norman, came,\n",
      "Nearest to often: riot, stresses, rude, giuseppe, bizarre, toughened, egypt, towns,\n",
      "Nearest to such: continuity, downstairs, lulu, oesophagus, deepest, isostatic, casinos, stirling,\n",
      "Nearest to time: dominican, intense, sussex, veselin, cartridges, due, adjustment, smallpox,\n",
      "Nearest to used: can, subsidies, suva, population, encouraged, htp, ovaries, boasts,\n",
      "Nearest to more: lives, orthoclase, white, bitkeeper, moh, qualifier, up, mutual,\n",
      "Nearest to over: supercritical, year, revalued, obsession, craftsman, hall, vendor, ena,\n",
      "Nearest to hold: killer, leaving, plotinus, reality, tramiel, anubis, conducting, therapists,\n",
      "Nearest to channel: hamill, blacks, weizmann, ptsd, pitaka, broadcasting, epistolary, clays,\n",
      "Nearest to prince: cyrillic, streaming, jacobs, construction, rip, spratly, dogmatically, durrell,\n",
      "Nearest to square: express, roof, solomon, race, biograph, casey, advance, promoting,\n",
      "Nearest to instance: ending, harm, comprehensiveness, toni, plan, proust, drinks, borrow,\n",
      "Nearest to gold: chekhov, analgesic, subjects, broader, lmann, integrate, labonte, electroshock,\n",
      "Nearest to mean: curta, beauchamp, implies, handed, coalitions, buzzing, importantly, evaporator,\n",
      "Nearest to frac: prevails, dai, tennyson, roussillon, pole, guideline, technically, interrupted,\n",
      "Epoch 1/10 Iteration: 3100 Avg. Training loss: 4.8248 0.2128 sec/batch\n",
      "Epoch 1/10 Iteration: 3200 Avg. Training loss: 4.8099 0.2103 sec/batch\n",
      "Epoch 1/10 Iteration: 3300 Avg. Training loss: 4.7661 0.2091 sec/batch\n",
      "Epoch 1/10 Iteration: 3400 Avg. Training loss: 4.7392 0.2091 sec/batch\n",
      "Epoch 1/10 Iteration: 3500 Avg. Training loss: 4.7856 0.2099 sec/batch\n",
      "Epoch 1/10 Iteration: 3600 Avg. Training loss: 4.7208 0.2101 sec/batch\n",
      "Epoch 1/10 Iteration: 3700 Avg. Training loss: 4.7501 0.2080 sec/batch\n",
      "Epoch 1/10 Iteration: 3800 Avg. Training loss: 4.7558 0.2075 sec/batch\n",
      "Epoch 1/10 Iteration: 3900 Avg. Training loss: 4.7682 0.2094 sec/batch\n",
      "Epoch 1/10 Iteration: 4000 Avg. Training loss: 4.6860 0.2069 sec/batch\n",
      "Nearest to been: warfare, abet, spire, analogs, comers, brought, unpleasant, tenure,\n",
      "Nearest to will: programmability, lingvo, trebia, preside, terabytes, created, foote, represented,\n",
      "Nearest to often: toughened, stresses, hamadan, cortina, rude, riot, egypt, sequencing,\n",
      "Nearest to such: downstairs, deepest, lulu, oesophagus, continuity, phenethylamines, isostatic, roddy,\n",
      "Nearest to time: dominican, intense, smallpox, veselin, sussex, cartridges, retrieving, adjustment,\n",
      "Nearest to used: can, subsidies, suva, packaging, ovaries, htp, unsightly, abstractions,\n",
      "Nearest to more: lives, orthoclase, bitkeeper, white, moh, qualifier, up, filed,\n",
      "Nearest to over: supercritical, year, obsession, revalued, growth, oblast, craftsman, henceforth,\n",
      "Nearest to hold: killer, leaving, plotinus, tramiel, anubis, reality, prefrontal, wives,\n",
      "Nearest to channel: hamill, weizmann, broadcasting, epistolary, blacks, spanking, lemon, ptsd,\n",
      "Nearest to prince: cyrillic, jacobs, streaming, spratly, rip, durrell, construction, turtles,\n",
      "Nearest to square: roof, express, biograph, solomon, casey, snuck, nguema, race,\n",
      "Nearest to instance: proust, harm, comprehensiveness, toni, asher, ending, worsened, videogames,\n",
      "Nearest to gold: chekhov, analgesic, subjects, integrate, lmann, labonte, pardoned, broader,\n",
      "Nearest to mean: beauchamp, coalitions, curta, specifying, implies, evaporator, presume, buzzing,\n",
      "Nearest to frac: prevails, roussillon, dai, tennyson, pole, guideline, sempronius, nursery,\n",
      "Epoch 1/10 Iteration: 4100 Avg. Training loss: 4.7056 0.2105 sec/batch\n",
      "Epoch 1/10 Iteration: 4200 Avg. Training loss: 4.6937 0.2108 sec/batch\n",
      "Epoch 1/10 Iteration: 4300 Avg. Training loss: 4.6632 0.2090 sec/batch\n",
      "Epoch 1/10 Iteration: 4400 Avg. Training loss: 4.6476 0.2088 sec/batch\n",
      "Epoch 1/10 Iteration: 4500 Avg. Training loss: 4.6623 0.2080 sec/batch\n",
      "Epoch 1/10 Iteration: 4600 Avg. Training loss: 4.6450 0.2082 sec/batch\n",
      "Epoch 2/10 Iteration: 4700 Avg. Training loss: 4.6011 0.1570 sec/batch\n",
      "Epoch 2/10 Iteration: 4800 Avg. Training loss: 4.5848 0.2075 sec/batch\n",
      "Epoch 2/10 Iteration: 4900 Avg. Training loss: 4.5443 0.2080 sec/batch\n",
      "Epoch 2/10 Iteration: 5000 Avg. Training loss: 4.5555 0.2075 sec/batch\n",
      "Nearest to been: warfare, abet, comers, analogs, brought, spire, tenure, unpleasant,\n",
      "Nearest to will: programmability, lingvo, can, interpreted, represented, created, foote, terabytes,\n",
      "Nearest to often: hamadan, cortina, toughened, stresses, sequencing, be, levite, suffice,\n",
      "Nearest to such: downstairs, oesophagus, deepest, continuity, isostatic, phenethylamines, lulu, management,\n",
      "Nearest to time: intense, dominican, sussex, blackberry, cartridges, idris, smallpox, lois,\n",
      "Nearest to used: can, packaging, subsidies, abstractions, retirees, suva, ovaries, passers,\n",
      "Nearest to more: lives, orthoclase, bitkeeper, up, moh, white, involve, filed,\n",
      "Nearest to over: supercritical, revalued, year, growth, chartered, oblast, reims, ena,\n",
      "Nearest to hold: killer, leaving, prefrontal, plotinus, anubis, tramiel, therapists, flutter,\n",
      "Nearest to channel: broadcasting, hamill, weizmann, pitaka, epistolary, barajas, spanking, rackets,\n",
      "Nearest to prince: cyrillic, spratly, jacobs, cricketer, durrell, streaming, rip, bartolomeo,\n",
      "Nearest to square: roof, biograph, express, casey, nguema, solomon, snuck, xie,\n",
      "Nearest to instance: proust, comprehensiveness, asher, harm, interprets, toni, perpetrated, worsened,\n",
      "Nearest to gold: chekhov, analgesic, subjects, integrate, labonte, snaps, adjoining, evangelists,\n",
      "Nearest to mean: beauchamp, evaporator, specifying, implies, coalitions, curta, orthopedic, buzzing,\n",
      "Nearest to frac: prevails, roussillon, dai, guideline, tennyson, sempronius, pole, mordor,\n",
      "Epoch 2/10 Iteration: 5100 Avg. Training loss: 4.5204 0.2106 sec/batch\n",
      "Epoch 2/10 Iteration: 5200 Avg. Training loss: 4.5163 0.2091 sec/batch\n",
      "Epoch 2/10 Iteration: 5300 Avg. Training loss: 4.4859 0.2109 sec/batch\n",
      "Epoch 2/10 Iteration: 5400 Avg. Training loss: 4.5620 0.2090 sec/batch\n",
      "Epoch 2/10 Iteration: 5500 Avg. Training loss: 4.5355 0.2093 sec/batch\n",
      "Epoch 2/10 Iteration: 5600 Avg. Training loss: 4.5237 0.2082 sec/batch\n",
      "Epoch 2/10 Iteration: 5700 Avg. Training loss: 4.4846 0.2102 sec/batch\n",
      "Epoch 2/10 Iteration: 5800 Avg. Training loss: 4.4351 0.2081 sec/batch\n",
      "Epoch 2/10 Iteration: 5900 Avg. Training loss: 4.4646 0.2098 sec/batch\n",
      "Epoch 2/10 Iteration: 6000 Avg. Training loss: 4.4584 0.2096 sec/batch\n",
      "Nearest to been: abet, warfare, brought, spire, comers, analogs, tenure, mehmet,\n",
      "Nearest to will: programmability, lingvo, interpreted, can, represented, created, intersection, preside,\n",
      "Nearest to often: hamadan, toughened, cortina, be, stresses, sequencing, ermengarde, levite,\n",
      "Nearest to such: downstairs, oesophagus, deepest, isostatic, continuity, inflections, management, evolution,\n",
      "Nearest to time: retrieving, cartridges, intense, appletalk, lois, adjustment, blackberry, veselin,\n",
      "Nearest to used: can, abstractions, packaging, substances, ovaries, retirees, suva, plosive,\n",
      "Nearest to more: lives, orthoclase, bitkeeper, involve, up, white, fir, cardan,\n",
      "Nearest to over: supercritical, revalued, chartered, year, reims, henceforth, ena, oblast,\n",
      "Nearest to hold: killer, leaving, prefrontal, therapists, glitches, wives, haemorrhage, plotinus,\n",
      "Nearest to channel: broadcasting, hamill, weizmann, minter, rackets, epistolary, barajas, pollock,\n",
      "Nearest to prince: cyrillic, spratly, jacobs, cricketer, durrell, bartolomeo, turtles, streaming,\n",
      "Nearest to square: roof, biograph, imd, gardens, geographical, xie, nguema, valentinius,\n",
      "Nearest to instance: proust, videogames, perpetrated, harm, comprehensiveness, blantyre, interprets, toni,\n",
      "Nearest to gold: chekhov, analgesic, snaps, older, dordrecht, lmann, labonte, subjects,\n",
      "Nearest to mean: beauchamp, evaporator, implies, specifying, orthopedic, curta, afferent, buzzing,\n",
      "Nearest to frac: prevails, guideline, roussillon, sempronius, dai, terms, wavelength, tennyson,\n",
      "Epoch 2/10 Iteration: 6100 Avg. Training loss: 4.4834 0.2137 sec/batch\n",
      "Epoch 2/10 Iteration: 6200 Avg. Training loss: 4.4588 0.2121 sec/batch\n",
      "Epoch 2/10 Iteration: 6300 Avg. Training loss: 4.4970 0.2094 sec/batch\n",
      "Epoch 2/10 Iteration: 6400 Avg. Training loss: 4.4133 0.2082 sec/batch\n",
      "Epoch 2/10 Iteration: 6500 Avg. Training loss: 4.4237 0.2069 sec/batch\n",
      "Epoch 2/10 Iteration: 6600 Avg. Training loss: 4.4720 0.2090 sec/batch\n",
      "Epoch 2/10 Iteration: 6700 Avg. Training loss: 4.4288 0.2096 sec/batch\n",
      "Epoch 2/10 Iteration: 6800 Avg. Training loss: 4.4116 0.2097 sec/batch\n",
      "Epoch 2/10 Iteration: 6900 Avg. Training loss: 4.4517 0.2088 sec/batch\n",
      "Epoch 2/10 Iteration: 7000 Avg. Training loss: 4.4025 0.2089 sec/batch\n",
      "Nearest to been: abet, brought, warfare, spire, unpleasant, comers, jurisdictions, analogs,\n",
      "Nearest to will: programmability, lingvo, interpreted, can, represented, variable, intersection, preside,\n",
      "Nearest to often: cortina, toughened, ermengarde, hamadan, sequencing, levite, rude, stresses,\n",
      "Nearest to such: oesophagus, downstairs, inflections, roddy, casinos, continuity, management, deepest,\n",
      "Nearest to time: lois, cartridges, storming, retrieving, intense, qpl, headroom, veselin,\n",
      "Nearest to used: can, abstractions, packaging, substances, ovaries, htp, retirees, plosive,\n",
      "Nearest to more: lives, orthoclase, involve, bitkeeper, up, analysed, computes, because,\n",
      "Nearest to over: supercritical, year, revalued, chartered, growth, reims, henceforth, leans,\n",
      "Nearest to hold: leaving, reality, killer, prefrontal, therapists, contacted, abjads, haemorrhage,\n",
      "Nearest to channel: broadcasting, minter, hamill, rackets, weizmann, spanking, lana, seaway,\n",
      "Nearest to prince: cricketer, cyrillic, spratly, jacobs, durrell, bartolomeo, charles, boycotts,\n",
      "Nearest to square: roof, biograph, xie, gardens, nguema, imd, geographical, express,\n",
      "Nearest to instance: harm, interprets, blantyre, comprehensiveness, perpetrated, predatory, worsened, asher,\n",
      "Nearest to gold: chekhov, snaps, analgesic, labonte, menace, electroshock, dordrecht, lmann,\n",
      "Nearest to mean: beauchamp, implies, orthopedic, evaporator, afferent, inverses, curta, specifying,\n",
      "Nearest to frac: prevails, roussillon, guideline, wavelength, pole, sempronius, satisfies, infinite,\n",
      "Epoch 2/10 Iteration: 7100 Avg. Training loss: 4.4011 0.2112 sec/batch\n",
      "Epoch 2/10 Iteration: 7200 Avg. Training loss: 4.4175 0.2089 sec/batch\n",
      "Epoch 2/10 Iteration: 7300 Avg. Training loss: 4.3852 0.2112 sec/batch\n"
     ]
    }
   ],
   "source": [
    "\n",
    "epochs = 10\n",
    "batch_size = 1000\n",
    "window_size = 10\n",
    "\n",
    "with train_graph.as_default():\n",
    "    saver = tf.train.Saver()\n",
    "\n",
    "with tf.Session(graph=train_graph) as sess:\n",
    "    iteration = 1\n",
    "    loss = 0\n",
    "    sess.run(tf.global_variables_initializer())\n",
    "\n",
    "    for e in range(1, epochs+1):\n",
    "        batches = get_batches(train_words, batch_size, window_size)\n",
    "        start = time.time()\n",
    "        for x, y in batches:\n",
    "            \n",
    "            feed = {inputs: x,\n",
    "                    labels: np.array(y)[:, None]}\n",
    "            train_loss, _ = sess.run([cost, optimizer], feed_dict=feed)\n",
    "            \n",
    "            loss += train_loss\n",
    "            \n",
    "            if iteration % 100 == 0: \n",
    "                end = time.time()\n",
    "                print(\"Epoch {}/{}\".format(e, epochs),\n",
    "                      \"Iteration: {}\".format(iteration),\n",
    "                      \"Avg. Training loss: {:.4f}\".format(loss/100),\n",
    "                      \"{:.4f} sec/batch\".format((end-start)/100))\n",
    "                loss = 0\n",
    "                start = time.time()\n",
    "            \n",
    "            if iteration % 1000 == 0:\n",
    "                ## From Thushan Ganegedara's implementation\n",
    "                # note that this is expensive (~20% slowdown if computed every 500 steps)\n",
    "                sim = similarity.eval()\n",
    "                for i in range(valid_size):\n",
    "                    valid_word = int_to_vocab[valid_examples[i]]\n",
    "                    top_k = 8 # number of nearest neighbors\n",
    "                    nearest = (-sim[i, :]).argsort()[1:top_k+1]\n",
    "                    log = 'Nearest to %s:' % valid_word\n",
    "                    for k in range(top_k):\n",
    "                        close_word = int_to_vocab[nearest[k]]\n",
    "                        log = '%s %s,' % (log, close_word)\n",
    "                    print(log)\n",
    "            \n",
    "            iteration += 1\n",
    "    save_path = saver.save(sess, \"checkpoints/text8.ckpt\")\n",
    "    embed_mat = sess.run(normalized_embedding)"
   ]
  },
  {
   "cell_type": "markdown",
   "metadata": {
    "deletable": true,
    "editable": true
   },
   "source": [
    "Restore the trained network if you need to:"
   ]
  },
  {
   "cell_type": "code",
   "execution_count": null,
   "metadata": {
    "collapsed": false,
    "deletable": true,
    "editable": true
   },
   "outputs": [],
   "source": [
    "with train_graph.as_default():\n",
    "    saver = tf.train.Saver()\n",
    "\n",
    "with tf.Session(graph=train_graph) as sess:\n",
    "    saver.restore(sess, tf.train.latest_checkpoint('checkpoints'))\n",
    "    embed_mat = sess.run(embedding)"
   ]
  },
  {
   "cell_type": "markdown",
   "metadata": {
    "deletable": true,
    "editable": true
   },
   "source": [
    "## Visualizing the word vectors\n",
    "\n",
    "Below we'll use T-SNE to visualize how our high-dimensional word vectors cluster together. T-SNE is used to project these vectors into two dimensions while preserving local stucture. Check out [this post from Christopher Olah](http://colah.github.io/posts/2014-10-Visualizing-MNIST/) to learn more about T-SNE and other ways to visualize high-dimensional data."
   ]
  },
  {
   "cell_type": "code",
   "execution_count": null,
   "metadata": {
    "collapsed": false,
    "deletable": true,
    "editable": true
   },
   "outputs": [],
   "source": [
    "%matplotlib inline\n",
    "%config InlineBackend.figure_format = 'retina'\n",
    "\n",
    "import matplotlib.pyplot as plt\n",
    "from sklearn.manifold import TSNE"
   ]
  },
  {
   "cell_type": "code",
   "execution_count": null,
   "metadata": {
    "collapsed": false,
    "deletable": true,
    "editable": true
   },
   "outputs": [],
   "source": [
    "viz_words = 500\n",
    "tsne = TSNE()\n",
    "embed_tsne = tsne.fit_transform(embed_mat[:viz_words, :])"
   ]
  },
  {
   "cell_type": "code",
   "execution_count": null,
   "metadata": {
    "collapsed": false,
    "deletable": true,
    "editable": true
   },
   "outputs": [],
   "source": [
    "fig, ax = plt.subplots(figsize=(14, 14))\n",
    "for idx in range(viz_words):\n",
    "    plt.scatter(*embed_tsne[idx, :], color='steelblue')\n",
    "    plt.annotate(int_to_vocab[idx], (embed_tsne[idx, 0], embed_tsne[idx, 1]), alpha=0.7)"
   ]
  }
 ],
 "metadata": {
  "kernelspec": {
   "display_name": "Python 3",
   "language": "python",
   "name": "python3"
  },
  "language_info": {
   "codemirror_mode": {
    "name": "ipython",
    "version": 3
   },
   "file_extension": ".py",
   "mimetype": "text/x-python",
   "name": "python",
   "nbconvert_exporter": "python",
   "pygments_lexer": "ipython3",
   "version": "3.5.2"
  },
  "widgets": {
   "state": {},
   "version": "1.1.2"
  }
 },
 "nbformat": 4,
 "nbformat_minor": 2
}
